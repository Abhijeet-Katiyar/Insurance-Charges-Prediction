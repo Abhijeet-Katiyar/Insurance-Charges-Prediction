{
  "nbformat": 4,
  "nbformat_minor": 0,
  "metadata": {
    "colab": {
      "name": "InsuraceChargesPrediction.ipynb",
      "provenance": [],
      "mount_file_id": "1Tb9H0--B6JynzEu4ftgxkMKCs4GJ4slx",
      "authorship_tag": "ABX9TyMwHVunVwVvnM84FNEGpXHr",
      "include_colab_link": true
    },
    "kernelspec": {
      "name": "python3",
      "display_name": "Python 3"
    }
  },
  "cells": [
    {
      "cell_type": "markdown",
      "metadata": {
        "id": "view-in-github",
        "colab_type": "text"
      },
      "source": [
        "<a href=\"https://colab.research.google.com/github/tushar821999/Insurance-Charges-Prediction/blob/master/InsuraceChargesPrediction.ipynb\" target=\"_parent\"><img src=\"https://colab.research.google.com/assets/colab-badge.svg\" alt=\"Open In Colab\"/></a>"
      ]
    },
    {
      "cell_type": "markdown",
      "metadata": {
        "id": "y1EfqCkrgv_p",
        "colab_type": "text"
      },
      "source": [
        "LOAD THE (insurance.csv) DATASET"
      ]
    },
    {
      "cell_type": "code",
      "metadata": {
        "id": "Rpa_pqHjd5ee",
        "colab_type": "code",
        "colab": {}
      },
      "source": [
        "# Importing Pandas Library\n",
        "import pandas as pd \n",
        "# Load Insurance.csv DataSet\n",
        "df = pd.read_csv(\"/content/drive/My Drive/DataSets/insurance.csv\")"
      ],
      "execution_count": 4,
      "outputs": []
    },
    {
      "cell_type": "code",
      "metadata": {
        "id": "t8zhlwFfe6MI",
        "colab_type": "code",
        "colab": {
          "base_uri": "https://localhost:8080/",
          "height": 200
        },
        "outputId": "0772e834-d3ba-4bff-9868-6cb6b96a751a"
      },
      "source": [
        "# print the First 10 Rows of the data\n",
        "print(df.head(10))"
      ],
      "execution_count": 5,
      "outputs": [
        {
          "output_type": "stream",
          "text": [
            "   age     sex     bmi  children smoker     region      charges\n",
            "0   19  female  27.900         0    yes  southwest  16884.92400\n",
            "1   18    male  33.770         1     no  southeast   1725.55230\n",
            "2   28    male  33.000         3     no  southeast   4449.46200\n",
            "3   33    male  22.705         0     no  northwest  21984.47061\n",
            "4   32    male  28.880         0     no  northwest   3866.85520\n",
            "5   31  female  25.740         0     no  southeast   3756.62160\n",
            "6   46  female  33.440         1     no  southeast   8240.58960\n",
            "7   37  female  27.740         3     no  northwest   7281.50560\n",
            "8   37    male  29.830         2     no  northeast   6406.41070\n",
            "9   60  female  25.840         0     no  northwest  28923.13692\n"
          ],
          "name": "stdout"
        }
      ]
    },
    {
      "cell_type": "markdown",
      "metadata": {
        "id": "CrJmJFQDg3gR",
        "colab_type": "text"
      },
      "source": [
        "ENCODE THE LABEL OF (sex,smoker,region)\n"
      ]
    },
    {
      "cell_type": "code",
      "metadata": {
        "id": "-Kptp5O-fj41",
        "colab_type": "code",
        "colab": {}
      },
      "source": [
        "# import preprocessing module from sklearn\n",
        "from sklearn import preprocessing\n",
        "# use LabelEncoder() method of preprocessing module\n",
        "label_encoder = preprocessing.LabelEncoder()\n",
        "# encode the label of {sex,smoker,region}\n",
        "df['sex'] = label_encoder.fit_transform(df['sex'])\n",
        "df['smoker'] = label_encoder.fit_transform(df['smoker'])\n",
        "df['region'] = label_encoder.fit_transform(df['region'])"
      ],
      "execution_count": 12,
      "outputs": []
    },
    {
      "cell_type": "code",
      "metadata": {
        "id": "fjdI-IeOg_QN",
        "colab_type": "code",
        "colab": {
          "base_uri": "https://localhost:8080/",
          "height": 383
        },
        "outputId": "33012e5c-0d42-4c35-b181-3f3ffc5e7e65"
      },
      "source": [
        "# print the first 10 rows of the dataset after label encoding\n",
        "print(df.head(10))\n",
        "# print the last 10 rows of the dataset after label encoding\n",
        "print(df.head(10))"
      ],
      "execution_count": 13,
      "outputs": [
        {
          "output_type": "stream",
          "text": [
            "   age  sex     bmi  children  smoker  region      charges\n",
            "0   19    0  27.900         0       1       3  16884.92400\n",
            "1   18    1  33.770         1       0       2   1725.55230\n",
            "2   28    1  33.000         3       0       2   4449.46200\n",
            "3   33    1  22.705         0       0       1  21984.47061\n",
            "4   32    1  28.880         0       0       1   3866.85520\n",
            "5   31    0  25.740         0       0       2   3756.62160\n",
            "6   46    0  33.440         1       0       2   8240.58960\n",
            "7   37    0  27.740         3       0       1   7281.50560\n",
            "8   37    1  29.830         2       0       0   6406.41070\n",
            "9   60    0  25.840         0       0       1  28923.13692\n",
            "   age  sex     bmi  children  smoker  region      charges\n",
            "0   19    0  27.900         0       1       3  16884.92400\n",
            "1   18    1  33.770         1       0       2   1725.55230\n",
            "2   28    1  33.000         3       0       2   4449.46200\n",
            "3   33    1  22.705         0       0       1  21984.47061\n",
            "4   32    1  28.880         0       0       1   3866.85520\n",
            "5   31    0  25.740         0       0       2   3756.62160\n",
            "6   46    0  33.440         1       0       2   8240.58960\n",
            "7   37    0  27.740         3       0       1   7281.50560\n",
            "8   37    1  29.830         2       0       0   6406.41070\n",
            "9   60    0  25.840         0       0       1  28923.13692\n"
          ],
          "name": "stdout"
        }
      ]
    },
    {
      "cell_type": "markdown",
      "metadata": {
        "id": "yyYLWBLlhT-f",
        "colab_type": "text"
      },
      "source": [
        "CHECK THE NULL VALUES IN THE DATASET"
      ]
    },
    {
      "cell_type": "code",
      "metadata": {
        "id": "TiR61pJzhL0i",
        "colab_type": "code",
        "colab": {
          "base_uri": "https://localhost:8080/",
          "height": 266
        },
        "outputId": "9d497200-a46a-40d8-e409-cd34c5ae4b67"
      },
      "source": [
        "print(df.info())"
      ],
      "execution_count": 15,
      "outputs": [
        {
          "output_type": "stream",
          "text": [
            "<class 'pandas.core.frame.DataFrame'>\n",
            "RangeIndex: 1338 entries, 0 to 1337\n",
            "Data columns (total 7 columns):\n",
            " #   Column    Non-Null Count  Dtype  \n",
            "---  ------    --------------  -----  \n",
            " 0   age       1338 non-null   int64  \n",
            " 1   sex       1338 non-null   int64  \n",
            " 2   bmi       1338 non-null   float64\n",
            " 3   children  1338 non-null   int64  \n",
            " 4   smoker    1338 non-null   int64  \n",
            " 5   region    1338 non-null   int64  \n",
            " 6   charges   1338 non-null   float64\n",
            "dtypes: float64(2), int64(5)\n",
            "memory usage: 73.3 KB\n",
            "None\n"
          ],
          "name": "stdout"
        }
      ]
    },
    {
      "cell_type": "markdown",
      "metadata": {
        "id": "gwvUxrPmjB0P",
        "colab_type": "text"
      },
      "source": [
        "STORE FEATURE IN \"X\" AND TARGET IN \"Y\""
      ]
    },
    {
      "cell_type": "code",
      "metadata": {
        "id": "XQbUL6KPirzM",
        "colab_type": "code",
        "colab": {}
      },
      "source": [
        "X = df.iloc[:,:6]\n",
        "Y = df.iloc[:,6:7]"
      ],
      "execution_count": 20,
      "outputs": []
    },
    {
      "cell_type": "code",
      "metadata": {
        "id": "wIhsIj6BjN-1",
        "colab_type": "code",
        "colab": {
          "base_uri": "https://localhost:8080/",
          "height": 216
        },
        "outputId": "b6da45a8-cc55-482a-c449-4608dc38a75c"
      },
      "source": [
        "print(X.head(5))\n",
        "print(Y.head(5))"
      ],
      "execution_count": 23,
      "outputs": [
        {
          "output_type": "stream",
          "text": [
            "   age  sex     bmi  children  smoker  region\n",
            "0   19    0  27.900         0       1       3\n",
            "1   18    1  33.770         1       0       2\n",
            "2   28    1  33.000         3       0       2\n",
            "3   33    1  22.705         0       0       1\n",
            "4   32    1  28.880         0       0       1\n",
            "       charges\n",
            "0  16884.92400\n",
            "1   1725.55230\n",
            "2   4449.46200\n",
            "3  21984.47061\n",
            "4   3866.85520\n"
          ],
          "name": "stdout"
        }
      ]
    }
  ]
}