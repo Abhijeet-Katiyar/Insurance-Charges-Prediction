{
  "nbformat": 4,
  "nbformat_minor": 0,
  "metadata": {
    "colab": {
      "name": "InsuraceChargesPrediction.ipynb",
      "provenance": [],
      "mount_file_id": "1Tb9H0--B6JynzEu4ftgxkMKCs4GJ4slx",
      "authorship_tag": "ABX9TyO6TG8ZJDPVfNY4r24jOsrT",
      "include_colab_link": true
    },
    "kernelspec": {
      "name": "python3",
      "display_name": "Python 3"
    }
  },
  "cells": [
    {
      "cell_type": "markdown",
      "metadata": {
        "id": "view-in-github",
        "colab_type": "text"
      },
      "source": [
        "<a href=\"https://colab.research.google.com/github/tushar821999/Insurance-Charges-Prediction/blob/master/InsuraceChargesPrediction.ipynb\" target=\"_parent\"><img src=\"https://colab.research.google.com/assets/colab-badge.svg\" alt=\"Open In Colab\"/></a>"
      ]
    },
    {
      "cell_type": "code",
      "metadata": {
        "id": "Rpa_pqHjd5ee",
        "colab_type": "code",
        "colab": {}
      },
      "source": [
        "# Importing Pandas Library\n",
        "import pandas as pd \n",
        "# Load Insurance.csv DataSet\n",
        "df = pd.read_csv(\"/content/drive/My Drive/DataSets/insurance.csv\")"
      ],
      "execution_count": 4,
      "outputs": []
    },
    {
      "cell_type": "code",
      "metadata": {
        "id": "t8zhlwFfe6MI",
        "colab_type": "code",
        "colab": {
          "base_uri": "https://localhost:8080/",
          "height": 200
        },
        "outputId": "0772e834-d3ba-4bff-9868-6cb6b96a751a"
      },
      "source": [
        "# print the First 10 Rows of the data\n",
        "print(df.head(10))"
      ],
      "execution_count": 5,
      "outputs": [
        {
          "output_type": "stream",
          "text": [
            "   age     sex     bmi  children smoker     region      charges\n",
            "0   19  female  27.900         0    yes  southwest  16884.92400\n",
            "1   18    male  33.770         1     no  southeast   1725.55230\n",
            "2   28    male  33.000         3     no  southeast   4449.46200\n",
            "3   33    male  22.705         0     no  northwest  21984.47061\n",
            "4   32    male  28.880         0     no  northwest   3866.85520\n",
            "5   31  female  25.740         0     no  southeast   3756.62160\n",
            "6   46  female  33.440         1     no  southeast   8240.58960\n",
            "7   37  female  27.740         3     no  northwest   7281.50560\n",
            "8   37    male  29.830         2     no  northeast   6406.41070\n",
            "9   60  female  25.840         0     no  northwest  28923.13692\n"
          ],
          "name": "stdout"
        }
      ]
    }
  ]
}